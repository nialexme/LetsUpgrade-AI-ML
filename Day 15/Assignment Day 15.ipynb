{
 "cells": [
  {
   "cell_type": "markdown",
   "metadata": {},
   "source": [
    "# 1. Create a 3x3x3 array with random values "
   ]
  },
  {
   "cell_type": "code",
   "execution_count": 18,
   "metadata": {},
   "outputs": [
    {
     "name": "stdout",
     "output_type": "stream",
     "text": [
      "[[[0.07486919 0.13139775 0.845661  ]\n",
      "  [0.29049669 0.79168725 0.97546328]\n",
      "  [0.05975515 0.16751851 0.14395214]]\n",
      "\n",
      " [[0.63182441 0.29431769 0.44386204]\n",
      "  [0.81614778 0.57889319 0.69091834]\n",
      "  [0.39137297 0.36385038 0.21597909]]\n",
      "\n",
      " [[0.59758328 0.13340953 0.60050365]\n",
      "  [0.48873615 0.82033021 0.35656094]\n",
      "  [0.67393799 0.54682253 0.5926672 ]]]\n"
     ]
    }
   ],
   "source": [
    "import numpy as np\n",
    "arr=np.random.random([3,3,3])\n",
    "print(arr)"
   ]
  },
  {
   "cell_type": "markdown",
   "metadata": {},
   "source": [
    "# 2.Create a 5x5 matrix with values 1,2,3,4 just below the diagonal"
   ]
  },
  {
   "cell_type": "code",
   "execution_count": 44,
   "metadata": {},
   "outputs": [
    {
     "data": {
      "text/plain": [
       "array([[0, 0, 0, 0, 0],\n",
       "       [1, 0, 0, 0, 0],\n",
       "       [0, 2, 0, 0, 0],\n",
       "       [0, 0, 3, 0, 0],\n",
       "       [0, 0, 0, 4, 0]])"
      ]
     },
     "execution_count": 44,
     "metadata": {},
     "output_type": "execute_result"
    }
   ],
   "source": [
    "mat=np.zeros((5,5))\n",
    "mat=np.diag((1,2,3,4),-1)\n",
    "mat"
   ]
  },
  {
   "cell_type": "markdown",
   "metadata": {},
   "source": [
    "\n",
    "# 3.Create a 8x8 matrix and fill it with a checkerboard pattern"
   ]
  },
  {
   "cell_type": "code",
   "execution_count": 85,
   "metadata": {},
   "outputs": [
    {
     "name": "stdout",
     "output_type": "stream",
     "text": [
      "[[1 1 1 1 1 1 1 1]\n",
      " [1 1 1 1 1 1 1 1]\n",
      " [1 1 1 1 1 1 1 1]\n",
      " [1 1 1 1 1 1 1 1]\n",
      " [1 1 1 1 1 1 1 1]\n",
      " [1 1 1 1 1 1 1 1]\n",
      " [1 1 1 1 1 1 1 1]\n",
      " [1 1 1 1 1 1 1 1]]\n"
     ]
    },
    {
     "data": {
      "text/plain": [
       "array([[1, 0, 1, 0, 1, 0, 1, 0],\n",
       "       [0, 1, 0, 1, 0, 1, 0, 1],\n",
       "       [1, 0, 1, 0, 1, 0, 1, 0],\n",
       "       [0, 1, 0, 1, 0, 1, 0, 1],\n",
       "       [1, 0, 1, 0, 1, 0, 1, 0],\n",
       "       [0, 1, 0, 1, 0, 1, 0, 1],\n",
       "       [1, 0, 1, 0, 1, 0, 1, 0],\n",
       "       [0, 1, 0, 1, 0, 1, 0, 1]])"
      ]
     },
     "execution_count": 85,
     "metadata": {},
     "output_type": "execute_result"
    }
   ],
   "source": [
    "check=np.ones((8,8),dtype=int)\n",
    "print(check)\n",
    "# Z = np.zeros((8,8),dtype=int)\n",
    "check[1::2,::2]=0\n",
    "check[::2,1::2]=0\n",
    "check"
   ]
  },
  {
   "cell_type": "markdown",
   "metadata": {},
   "source": [
    "# 4. Normalize a 5x5 random matrix"
   ]
  },
  {
   "cell_type": "code",
   "execution_count": 105,
   "metadata": {},
   "outputs": [
    {
     "name": "stdout",
     "output_type": "stream",
     "text": [
      "[[0.86693324 0.83181364 0.79999092 0.045918   0.43856099]\n",
      " [0.84487128 0.62729353 0.86412203 0.60091757 0.85064742]\n",
      " [0.41395194 0.11704923 0.73346338 0.52996704 0.16029233]\n",
      " [0.82707046 0.87257696 0.73960293 0.36821572 0.30538057]\n",
      " [0.40157209 0.24384326 0.06655867 0.85321855 0.67555366]]\n",
      "mean is: 0.563175415813488\n",
      "std is : 0.2791304093191574\n"
     ]
    },
    {
     "data": {
      "text/plain": [
       "array([[ 1.08822907,  0.96241118,  0.84840453, -1.85310306, -0.44643801],\n",
       "       [ 1.00919087,  0.22970667,  1.07815776,  0.13521335,  1.02988421],\n",
       "       [-0.53460129, -1.59827151,  0.61006596, -0.11897084, -1.44335076],\n",
       "       [ 0.94541848,  1.108448  ,  0.63206123, -0.69845381, -0.92356418],\n",
       "       [-0.57895279, -1.14402497, -1.77915672,  1.03909545,  0.40260122]])"
      ]
     },
     "execution_count": 105,
     "metadata": {},
     "output_type": "execute_result"
    }
   ],
   "source": [
    "norm=np.random.random((5,5))\n",
    "norm_mean= np.mean(norm)\n",
    "print(norm)\n",
    "print('mean is:',norm_mean)\n",
    "norm_std=np.std(norm)\n",
    "print('std is :',norm_std)\n",
    "norm_n=(norm-norm_mean)/norm_std\n",
    "norm_n"
   ]
  },
  {
   "cell_type": "markdown",
   "metadata": {},
   "source": [
    "# 5.  How to find common values between two arrays?"
   ]
  },
  {
   "cell_type": "code",
   "execution_count": 125,
   "metadata": {},
   "outputs": [
    {
     "data": {
      "text/plain": [
       "array([3, 5, 6, 7, 8])"
      ]
     },
     "execution_count": 125,
     "metadata": {},
     "output_type": "execute_result"
    }
   ],
   "source": [
    "set1 = np.random.randint(0,10,10)\n",
    "set2 = np.random.randint(0,10,10)\n",
    "set3 = np.intersect1d(set1,set2)\n",
    "set3"
   ]
  },
  {
   "cell_type": "markdown",
   "metadata": {},
   "source": [
    "# 6.How to get the dates of yesterday, today and tomorrow?"
   ]
  },
  {
   "cell_type": "code",
   "execution_count": 138,
   "metadata": {},
   "outputs": [
    {
     "name": "stdout",
     "output_type": "stream",
     "text": [
      "2020-07-30\n",
      "2020-07-31\n",
      "2020-07-29\n"
     ]
    }
   ],
   "source": [
    "today     = np.datetime64('today')\n",
    "print(today)\n",
    "tomorrow = np.datetime64('today')+np.timedelta64(1)\n",
    "print(tomorrow)\n",
    "yesterday = np.datetime64('today')-np.timedelta64(1)\n",
    "print(yesterday)"
   ]
  },
  {
   "cell_type": "markdown",
   "metadata": {},
   "source": [
    "# 7. Consider two random array A and B, check if they are equal"
   ]
  },
  {
   "cell_type": "code",
   "execution_count": 149,
   "metadata": {},
   "outputs": [
    {
     "name": "stdout",
     "output_type": "stream",
     "text": [
      "[1 1 3 3 4]\n",
      "[3 0 3 4 3]\n",
      "False\n"
     ]
    }
   ],
   "source": [
    "ran1 = np.random.randint(0,5,5)\n",
    "print(ran1)\n",
    "ran2 = np.random.randint(0,5,5)\n",
    "print(ran2)\n",
    "print(np.array_equal(ran1,ran2))"
   ]
  },
  {
   "cell_type": "markdown",
   "metadata": {},
   "source": [
    "# 8.Create random vector of size 10 and replace the maximum value by 0 "
   ]
  },
  {
   "cell_type": "code",
   "execution_count": 158,
   "metadata": {},
   "outputs": [
    {
     "data": {
      "text/plain": [
       "array([0.45591667, 0.38278825, 0.74217377, 0.18096942, 0.70646413,\n",
       "       0.        , 0.06606131, 0.59107112, 0.65850214, 0.22874816])"
      ]
     },
     "execution_count": 158,
     "metadata": {},
     "output_type": "execute_result"
    }
   ],
   "source": [
    "randm = np.random.random(10)\n",
    "randm[randm.argmax()]=0\n",
    "randm"
   ]
  },
  {
   "cell_type": "markdown",
   "metadata": {},
   "source": [
    "# 9. How to print all the values of an array?"
   ]
  },
  {
   "cell_type": "code",
   "execution_count": 175,
   "metadata": {},
   "outputs": [
    {
     "name": "stdout",
     "output_type": "stream",
     "text": [
      "0\n",
      "1\n",
      "2\n",
      "3\n",
      "4\n",
      "5\n"
     ]
    }
   ],
   "source": [
    "arr1=np.arange(6)\n",
    "for x in arr1:\n",
    "    print(x)"
   ]
  },
  {
   "cell_type": "markdown",
   "metadata": {},
   "source": [
    "# 10.Subtract the mean of each row of a matrix"
   ]
  },
  {
   "cell_type": "code",
   "execution_count": 198,
   "metadata": {},
   "outputs": [
    {
     "name": "stdout",
     "output_type": "stream",
     "text": [
      "[[ 0  1  2  3  4]\n",
      " [ 5  6  7  8  9]\n",
      " [10 11 12 13 14]]\n",
      "[[-2. -1.  0.  1.  2.]\n",
      " [-2. -1.  0.  1.  2.]\n",
      " [-2. -1.  0.  1.  2.]]\n"
     ]
    }
   ],
   "source": [
    "mat1=np.arange(15).reshape(3,5)\n",
    "mat2=mat1-mat1.mean(axis=1,keepdims=True)\n",
    "print(mat1)\n",
    "print(mat2)"
   ]
  },
  {
   "cell_type": "markdown",
   "metadata": {},
   "source": [
    "# 11.Consider a given vector, how to add 1 to each element indexed by a second vector (be careful with repeated indices)? "
   ]
  },
  {
   "cell_type": "code",
   "execution_count": 272,
   "metadata": {},
   "outputs": [
    {
     "name": "stdout",
     "output_type": "stream",
     "text": [
      "[0 1 2 3 4 5 6 7 8 9]\n",
      "10\n",
      "[8 2 9 4 0 6 7 2 9 4 5 2 8 0 3 8 0 5 6 0]\n",
      "[4 0 3 1 2 2 2 1 3 2]\n",
      "[ 4  1  5  4  6  7  8  8 11 11]\n"
     ]
    }
   ],
   "source": [
    "Z = np.arange(10)\n",
    "Z1 = np.arange(10)\n",
    "print(Z)\n",
    "print(len(Z))\n",
    "I = np.array([8,2, 9, 4, 0, 6, 7, 2, 9, 4, 5, 2, 8, 0, 3, 8, 0, 5, 6, 0])\n",
    "print(I)\n",
    "D =np.bincount(I)\n",
    "print(D)\n",
    "Z += np.bincount(I, minlength=10)\n",
    "print(Z)"
   ]
  },
  {
   "cell_type": "markdown",
   "metadata": {},
   "source": [
    "# 12.How to get the diagonal of a dot product?"
   ]
  },
  {
   "cell_type": "code",
   "execution_count": 273,
   "metadata": {},
   "outputs": [
    {
     "name": "stdout",
     "output_type": "stream",
     "text": [
      "[[0.96081287 0.0425429  0.4996366  0.89286294 0.41290509]\n",
      " [0.06733619 0.75025876 0.35447236 0.62545888 0.60776052]\n",
      " [0.45686173 0.51148275 0.51652561 0.92543695 0.46582867]\n",
      " [0.4506738  0.58127223 0.05855815 0.04417736 0.19228181]\n",
      " [0.05391372 0.98410757 0.64709428 0.32347963 0.84405785]]\n",
      "[[0.06877837 0.87364406 0.95372133 0.74240622 0.14638271]\n",
      " [0.90723501 0.88915585 0.00231674 0.44236293 0.9866655 ]\n",
      " [0.77240881 0.89101886 0.63239763 0.78860447 0.20800737]\n",
      " [0.25835078 0.317003   0.46341628 0.09086132 0.85316454]\n",
      " [0.26041515 0.56081351 0.42429376 0.4599225  0.11162536]]\n",
      "diagonal of a dot product method 1 is.... [0.82880183 1.58087903 1.39006407 0.73034428 1.48367702]\n"
     ]
    }
   ],
   "source": [
    "A = np.random.uniform(0,1,(5,5))\n",
    "B = np.random.uniform(0,1,(5,5))\n",
    "print(A)\n",
    "print(B)\n",
    "# Slow version\n",
    "prod1=np.diag(np.dot(A, B))\n",
    "\n",
    "\n",
    "print(\"diagonal of a dot product method 1 is....\",prod1)"
   ]
  },
  {
   "cell_type": "markdown",
   "metadata": {},
   "source": [
    "# 13.How to find the most frequent value in an array?"
   ]
  },
  {
   "cell_type": "code",
   "execution_count": 282,
   "metadata": {},
   "outputs": [
    {
     "name": "stdout",
     "output_type": "stream",
     "text": [
      "[1 1 3 2 0 1 0 1 3 2]\n",
      "[2 4 2 2]\n",
      "1\n"
     ]
    }
   ],
   "source": [
    "Z = np.random.randint(0,5,10)\n",
    "print(Z)\n",
    "print(np.bincount(Z))\n",
    "print(np.bincount(Z).argmax())"
   ]
  },
  {
   "cell_type": "markdown",
   "metadata": {},
   "source": [
    "# 14.How to get the n largest values of an array"
   ]
  },
  {
   "cell_type": "code",
   "execution_count": 290,
   "metadata": {},
   "outputs": [
    {
     "data": {
      "text/plain": [
       "array([44, 45, 46, 47, 48, 49])"
      ]
     },
     "execution_count": 290,
     "metadata": {},
     "output_type": "execute_result"
    }
   ],
   "source": [
    "arr4=np.arange(10,50)\n",
    "np.random.shuffle(arr4)\n",
    "n=6\n",
    "arr4=arr4[np.argsort(arr4)[-n:]]\n",
    "arr4"
   ]
  },
  {
   "cell_type": "markdown",
   "metadata": {},
   "source": [
    "# 15.How to create a record array from a regular array?"
   ]
  },
  {
   "cell_type": "code",
   "execution_count": null,
   "metadata": {},
   "outputs": [],
   "source": [
    "Z = np.array([(\"Hello\", 2.5, 3),\n",
    "              (\"World\", 3.6, 2)])\n",
    "R = np.core.records.fromarrays(Z.T,\n",
    "                               names='col1, col2, col3',\n",
    "                               formats = 'S8, f8, i8')\n",
    "print(R)"
   ]
  },
  {
   "cell_type": "code",
   "execution_count": null,
   "metadata": {},
   "outputs": [],
   "source": []
  }
 ],
 "metadata": {
  "kernelspec": {
   "display_name": "Python 3",
   "language": "python",
   "name": "python3"
  },
  "language_info": {
   "codemirror_mode": {
    "name": "ipython",
    "version": 3
   },
   "file_extension": ".py",
   "mimetype": "text/x-python",
   "name": "python",
   "nbconvert_exporter": "python",
   "pygments_lexer": "ipython3",
   "version": "3.7.6"
  }
 },
 "nbformat": 4,
 "nbformat_minor": 2
}
