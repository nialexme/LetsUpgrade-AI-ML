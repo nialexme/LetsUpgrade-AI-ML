{
 "cells": [
  {
   "cell_type": "markdown",
   "metadata": {},
   "source": [
    "# Question 1 :\n",
    "Write a program to subtract two complex numbers in Python."
   ]
  },
  {
   "cell_type": "code",
   "execution_count": 25,
   "metadata": {},
   "outputs": [
    {
     "name": "stdout",
     "output_type": "stream",
     "text": [
      "Subtraction of two complex numbers are : (1+2j)\n"
     ]
    }
   ],
   "source": [
    "a = 1+4j\n",
    "b = 2+6j\n",
    "print('Subtraction of two complex numbers are :',b-a)"
   ]
  },
  {
   "cell_type": "markdown",
   "metadata": {},
   "source": [
    "# Question 2 :\n",
    "Write a program to find the fourth root of a number."
   ]
  },
  {
   "cell_type": "code",
   "execution_count": 22,
   "metadata": {
    "scrolled": true
   },
   "outputs": [
    {
     "name": "stdout",
     "output_type": "stream",
     "text": [
      "Fourth root of 25 is 2.23606797749979\n"
     ]
    }
   ],
   "source": [
    "c=25\n",
    "d=c**(1/4)\n",
    "print('Fourth root of',c,'is',d)"
   ]
  },
  {
   "cell_type": "markdown",
   "metadata": {},
   "source": [
    "# Question 3 :\n",
    "Write a program to swap two numbers in Python with the help of a temporary variable."
   ]
  },
  {
   "cell_type": "code",
   "execution_count": 29,
   "metadata": {},
   "outputs": [
    {
     "name": "stdout",
     "output_type": "stream",
     "text": [
      "Before swap\n",
      "First number is: 3\n",
      "Second number is: 7\n",
      "After swap\n",
      "First number is: 7\n",
      "Second number is: 3\n"
     ]
    }
   ],
   "source": [
    "num1 = 3\n",
    "num2 = 7\n",
    "print('Before swap')\n",
    "print('First number is:',num1)\n",
    "print('Second number is:',num2)\n",
    "temp = num1\n",
    "num1 = num2\n",
    "num2 = temp\n",
    "print('After swap')\n",
    "print('First number is:',num1)\n",
    "print('Second number is:',num2)"
   ]
  },
  {
   "cell_type": "markdown",
   "metadata": {},
   "source": [
    "# Question 4 :\n",
    "Write a program to swap two numbers in Python without using a temporary variable."
   ]
  },
  {
   "cell_type": "code",
   "execution_count": 32,
   "metadata": {},
   "outputs": [
    {
     "name": "stdout",
     "output_type": "stream",
     "text": [
      "Before swap\n",
      "First number is: 3\n",
      "Second number is: 7\n",
      "After swap\n",
      "First number is: 7\n",
      "Second number is: 3\n"
     ]
    }
   ],
   "source": [
    "num1 = 3\n",
    "num2 = 7\n",
    "print('Before swap')\n",
    "print('First number is:',num1)\n",
    "print('Second number is:',num2)\n",
    "num1 = num1+num2\n",
    "num2 = num1-num2\n",
    "num1 = num1-num2\n",
    "print('After swap')\n",
    "print('First number is:',num1)\n",
    "print('Second number is:',num2)"
   ]
  },
  {
   "cell_type": "markdown",
   "metadata": {},
   "source": [
    "# Question 5 :\n",
    "Write a program to convert fahrenheit to kelvin and celsius both.\n",
    "\n",
    "Notes:\n",
    "Fahrenheit to Celsius : ° C = 5/9 (° F - 32)\n",
    "  and  Fahrenheit to Kelvin : K = 5/9 (° F - 32) + 273.15"
   ]
  },
  {
   "cell_type": "code",
   "execution_count": 41,
   "metadata": {
    "scrolled": true
   },
   "outputs": [
    {
     "name": "stdout",
     "output_type": "stream",
     "text": [
      "Fahrenheit to Celsius conversion for 40 is 4.444444444444445\n",
      "Fahrenheit to Kelvin conversion for 40 is 277.59444444444443\n"
     ]
    }
   ],
   "source": [
    "f = 40\n",
    "print('Fahrenheit to Celsius conversion for',f,'is',5/9*(f-32))\n",
    "print('Fahrenheit to Kelvin conversion for',f,'is',5/9*(f-32)+273.15)"
   ]
  },
  {
   "cell_type": "markdown",
   "metadata": {},
   "source": [
    "# Question 6 :\n",
    "Write a program to demonstrate all the available data types in Python.\n",
    "Hint: Use type() function."
   ]
  },
  {
   "cell_type": "code",
   "execution_count": 75,
   "metadata": {},
   "outputs": [
    {
     "name": "stdout",
     "output_type": "stream",
     "text": [
      "Data Type of variable \"var\" when given \"Hi\" is   <class 'str'>\n",
      "Data Type of variable \"var\" when given \"4\" is   <class 'int'>\n",
      "Data Type of variable \"var\" when given \"3.6\" is   <class 'float'>\n",
      "Data Type of variable \"var\" when given \"True/False\" is   <class 'bool'>\n",
      "Data Type of variable \"var\" when given \"3+6j\" is   <class 'complex'>\n",
      "Data Type of variable \"var\" when given \"1,3,2\" is   <class 'tuple'>\n",
      "Data Type of variable \"var\" when given \"{1,hi}\" is   <class 'set'>\n",
      "Data Type of variable \"var\" when given \"[1,hi]\" is   <class 'list'>\n",
      "Data Type of variable \"var\" when given \"{hi: 1}\" is   <class 'dict'>\n"
     ]
    }
   ],
   "source": [
    "a = 'Hi'\n",
    "print('Data Type of variable \"var\" when given \"Hi\" is  ',type(a))\n",
    "a = 4\n",
    "print('Data Type of variable \"var\" when given \"4\" is  ',type(a))\n",
    "a = 3.6\n",
    "print('Data Type of variable \"var\" when given \"3.6\" is  ',type(a))\n",
    "a = True\n",
    "print('Data Type of variable \"var\" when given \"True/False\" is  ',type(a))\n",
    "a = 3+6j\n",
    "print('Data Type of variable \"var\" when given \"3+6j\" is  ',type(a))\n",
    "a = 1,3,2\n",
    "print('Data Type of variable \"var\" when given \"1,3,2\" is  ',type(a))\n",
    "a = {1,'hi'}\n",
    "print('Data Type of variable \"var\" when given \"{1,hi}\" is  ',type(a))\n",
    "a = [1,'hi']\n",
    "print('Data Type of variable \"var\" when given \"[1,hi]\" is  ',type(a))\n",
    "a = {'hi': 1}\n",
    "print('Data Type of variable \"var\" when given \"{hi: 1}\" is  ',type(a))"
   ]
  },
  {
   "cell_type": "markdown",
   "metadata": {},
   "source": [
    "# Question 7 :\n",
    "\n",
    "Create a Markdown cell in jupyter and list the steps discussed in the session by Dr. Darshan Ingle sir to create Github profile and upload Githubs Assignment link.\n"
   ]
  },
  {
   "cell_type": "markdown",
   "metadata": {},
   "source": [
    "\n",
    "1) Create a GitHub Account using Email ID.  \n",
    "2) Create a repository as public and name it LetsUpgrade AI/ML.  \n",
    "3) After completion of assignment in jupyter, download ipynb file to folder Day #.  \n",
    "4) Upload the folder day 3 in the repositoryand press submit.(we have to upload assignments to same repository everyday).  \n",
    "5) Once the upload is completed, open the folder in Github and copy the link.  \n",
    "6) Paste in the Assignment Submission Form (Google Form).  \n",
    "7) Make sure to fill all the details in the Assignment Submission Form correctly.  \n",
    "8) Submit the form and check mail for confirmation.  "
   ]
  },
  {
   "cell_type": "code",
   "execution_count": null,
   "metadata": {},
   "outputs": [],
   "source": []
  },
  {
   "cell_type": "code",
   "execution_count": null,
   "metadata": {},
   "outputs": [],
   "source": []
  }
 ],
 "metadata": {
  "kernelspec": {
   "display_name": "Python 3",
   "language": "python",
   "name": "python3"
  },
  "language_info": {
   "codemirror_mode": {
    "name": "ipython",
    "version": 3
   },
   "file_extension": ".py",
   "mimetype": "text/x-python",
   "name": "python",
   "nbconvert_exporter": "python",
   "pygments_lexer": "ipython3",
   "version": "3.7.6"
  }
 },
 "nbformat": 4,
 "nbformat_minor": 4
}
