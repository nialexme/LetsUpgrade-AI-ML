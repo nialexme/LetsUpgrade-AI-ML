{
 "cells": [
  {
   "cell_type": "markdown",
   "metadata": {},
   "source": [
    "# Question 1:\n",
    "Assuming that we have some email addresses in the \"username@companyname.com\" format, please write program\n",
    "to print the company name of a given email address. Both user names and company names are composed of letters\n",
    "only."
   ]
  },
  {
   "cell_type": "code",
   "execution_count": 17,
   "metadata": {},
   "outputs": [
    {
     "name": "stdout",
     "output_type": "stream",
     "text": [
      "enter any email address:abc123@gmail.com\n",
      "Company name of this email is : gmail\n"
     ]
    }
   ],
   "source": [
    "email = input('enter any email address:')\n",
    "companyname=email[email.find('@')+1:email.find('.')]\n",
    "print('Company name of this email is :',companyname)"
   ]
  },
  {
   "cell_type": "markdown",
   "metadata": {},
   "source": [
    "# Question 2:\n",
    "Write a program that accepts a comma-separated sequence of words as input and prints the words in a comma\n",
    "separated sequence after sorting them alphabetically."
   ]
  },
  {
   "cell_type": "code",
   "execution_count": 51,
   "metadata": {},
   "outputs": [
    {
     "name": "stdout",
     "output_type": "stream",
     "text": [
      "enter some words with comma separated:hey,nishanth,how,are,you,bro\n",
      "You have entered : hey,nishanth,how,are,you,bro\n",
      "Words after sort : are,bro,hey,how,nishanth,you\n"
     ]
    }
   ],
   "source": [
    "strng=input('enter some words with comma separated:')\n",
    "string=strng.split(',')\n",
    "print('You have entered :',strng)\n",
    "string.sort()\n",
    "strng=','.join(string)\n",
    "print('Words after sort :',strng)"
   ]
  },
  {
   "cell_type": "markdown",
   "metadata": {},
   "source": [
    "# Question 3:\n",
    "Create your own Jupyter Notebook for Sets.\n",
    "Reference link: https://www.w3schools.com/python/python_sets.asp"
   ]
  },
  {
   "cell_type": "markdown",
   "metadata": {},
   "source": [
    "In Python,   \n",
    "The set items are also unindexed.  \n",
    "A set is a data structure that stores unordered items.\n",
    "A set doesn't accept duplicate items.\n",
    "A elements of set are immutable, but the set itself is mutable.\n",
    "A set items are not indexed so sets don't support any slicing or indexing operations.\n",
    "\n",
    "Operations of Set:  \n",
    "Intersection(A ∩ B) -\tsame elements in both set  \n",
    "Union(A ∪ B) - all unique elements in both sets  \n",
    "Difference(A − B) -\tall elements in but not present in set B  \n",
    "Complement(or) -\tall elements which are not in set B  "
   ]
  },
  {
   "cell_type": "code",
   "execution_count": 58,
   "metadata": {},
   "outputs": [
    {
     "name": "stdout",
     "output_type": "stream",
     "text": [
      "My_Set1 =  {1, 2, 3, 4, 5}\n",
      "My_Set2 =  {3, 4, 5, 6, 7}\n",
      "\n",
      "\n",
      "Union of My_Set1 & My_Set2: My_Set3 =  {1, 2, 3, 4, 5, 6, 7}\n",
      "Intersection of My_Set1 & My_Set2: My_Set4 =  {3, 4, 5}\n",
      "\n",
      "\n",
      "My_Set3 is superset of My_Set4\n",
      "My_Set4 is subset of My_Set3\n",
      "\n",
      "\n",
      "Elements in My_Set3 and not in My_Set4: My_Set5 =  {1, 2, 6, 7}\n",
      "\n",
      "\n",
      "My_Set4 and My_Set5 have nothing in common\n",
      "\n",
      "After applying clear on sets My_Set5: \n",
      "My_Set5 =  set()\n"
     ]
    }
   ],
   "source": [
    "# Python program to demonstrate working# of Set in Python \n",
    "\n",
    "# creating two sets \n",
    "My_Set1 = set()\n",
    "My_Set2 = set()\n",
    "# Adding elements to My_Set1\n",
    "for i in range(1, 6): \n",
    "   My_Set1.add(i) \n",
    "# Adding elements to My_Set2\n",
    "for i in range(3, 8): \n",
    "   My_Set2.add(i) \n",
    "print(\"My_Set1 = \", My_Set1) \n",
    "print(\"My_Set2 = \", My_Set2) \n",
    "print(\"\\n\") \n",
    "# Union of My_Set1 and My_Set2\n",
    "My_Set3 = My_Set1 | My_Set2# My_Set1.union(My_Set2) \n",
    "print(\"Union of My_Set1 & My_Set2: My_Set3 = \", My_Set3) \n",
    "# Intersection of My_Set1 and My_Set2\n",
    "My_Set4 = My_Set1&My_Set2# My_Set1.intersection(My_Set2) \n",
    "print(\"Intersection of My_Set1 & My_Set2: My_Set4 = \", My_Set4) \n",
    "print(\"\\n\") \n",
    "# Checking relation between My_Set3 and My_Set4\n",
    "if My_Set3>My_Set4: # My_Set3.issuperset(My_Set4) \n",
    "   print(\"My_Set3 is superset of My_Set4\") \n",
    "elif My_Set3<My_Set4: # My_Set3.issubset(My_Set4) \n",
    "   print(\"My_Set3 is subset of My_Set4\") \n",
    "else : # My_Set3 == My_Set4\n",
    "   print(\"My_Set3 is same as My_Set4\") \n",
    "# displaying relation between My_Set4 and My_Set3\n",
    "if My_Set4<My_Set3: # My_Set4.issubset(My_Set3) \n",
    "   print(\"My_Set4 is subset of My_Set3\") \n",
    "   print(\"\\n\") \n",
    "# difference between My_Set3 and My_Set4\n",
    "My_Set5 = My_Set3 - My_Set4\n",
    "print(\"Elements in My_Set3 and not in My_Set4: My_Set5 = \", My_Set5) \n",
    "print(\"\\n\") \n",
    "# check if My_Set4 and My_Set5 are disjoint sets \n",
    "if My_Set4.isdisjoint(My_Set5): \n",
    "   print(\"My_Set4 and My_Set5 have nothing in common\\n\") \n",
    "# Removing all the values of My_Set5\n",
    "My_Set5.clear()\n",
    "print(\"After applying clear on sets My_Set5: \") \n",
    "print(\"My_Set5 = \", My_Set5) "
   ]
  },
  {
   "cell_type": "markdown",
   "metadata": {},
   "source": [
    "# Question 4:\n",
    "Given a list of n-1 numbers ranging from 1 to n, your task is to find the missing number. There are no duplicates."
   ]
  },
  {
   "cell_type": "code",
   "execution_count": 23,
   "metadata": {},
   "outputs": [
    {
     "name": "stdout",
     "output_type": "stream",
     "text": [
      "Enter some numbers with space seperated: 1 2 4 6 3 7 8\n",
      "5\n"
     ]
    }
   ],
   "source": [
    "num = input('Enter some numbers with space seperated: ')\n",
    "num1 = num.split()\n",
    "num = list(map(int,num1))\n",
    "for i in range(min(num),max(num)):\n",
    "    for j in num:\n",
    "        if i==j:\n",
    "            break\n",
    "    else:\n",
    "        print(i)\n",
    "\n",
    "# Another method\n",
    "# num = input('Enter some numbers with space seperated: ')\n",
    "# num1 = num.split()\n",
    "# num = list(map(int,num1))\n",
    "# for i in range(min(num),max(num)):\n",
    "#     if i not in num:\n",
    "#         print(i)"
   ]
  },
  {
   "cell_type": "markdown",
   "metadata": {},
   "source": [
    "# Question 5:\n",
    "With a given list L, write a program to print this list L after removing all duplicate values with original order reserved."
   ]
  },
  {
   "cell_type": "code",
   "execution_count": 56,
   "metadata": {},
   "outputs": [
    {
     "name": "stdout",
     "output_type": "stream",
     "text": [
      "12 24 35 24\n",
      "12 24 35 "
     ]
    }
   ],
   "source": [
    "list1 = input()\n",
    "lst = list1.split()\n",
    "list2 =[]\n",
    "for i in lst:\n",
    "    if i not in list2:\n",
    "        list2.append(i)\n",
    "        print(i,end=\" \")"
   ]
  }
 ],
 "metadata": {
  "kernelspec": {
   "display_name": "Python 3",
   "language": "python",
   "name": "python3"
  },
  "language_info": {
   "codemirror_mode": {
    "name": "ipython",
    "version": 3
   },
   "file_extension": ".py",
   "mimetype": "text/x-python",
   "name": "python",
   "nbconvert_exporter": "python",
   "pygments_lexer": "ipython3",
   "version": "3.7.6"
  }
 },
 "nbformat": 4,
 "nbformat_minor": 4
}
