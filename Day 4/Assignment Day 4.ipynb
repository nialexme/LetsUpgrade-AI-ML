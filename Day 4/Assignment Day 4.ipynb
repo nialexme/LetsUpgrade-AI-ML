{
 "cells": [
  {
   "cell_type": "markdown",
   "metadata": {},
   "source": [
    "# Question 1 :  \n",
    "Research on whether addition, subtraction, multiplication, division, floor division and modulo\n",
    "operations be performed on complex numbers. Based on your study, implement a Python\n",
    "program to demonstrate these operations."
   ]
  },
  {
   "cell_type": "code",
   "execution_count": 57,
   "metadata": {},
   "outputs": [
    {
     "name": "stdout",
     "output_type": "stream",
     "text": [
      "Addition of complex numbers : (16+12j)\n",
      "Subtraction of complex numbers : (8-8j)\n",
      "Multiplication of complex numbers : (28+128j)\n",
      "Division of complex numbers : (0.5862068965517242-0.9655172413793103j)\n",
      "Floor Division and modulo operations are not allowed for complex numbers\n",
      "But in stackoverflow site, someone has commented as floor and mod modules are included in mpmath library\n"
     ]
    }
   ],
   "source": [
    "num1 = 4+10j\n",
    "num2 = 12+2j\n",
    "\n",
    "print('Addition of complex numbers :',num2+num1)\n",
    "print('Subtraction of complex numbers :',num2-num1)\n",
    "print('Multiplication of complex numbers :',num2*num1)\n",
    "print('Division of complex numbers :',num2/num1)\n",
    "print('Floor Division and modulo operations are not allowed for complex numbers')\n",
    "print('But in stackoverflow site, someone has commented as floor and mod modules are included in mpmath library')"
   ]
  },
  {
   "cell_type": "markdown",
   "metadata": {},
   "source": [
    "# Question 2 :\n",
    "Research on range() functions and its parameters. Create a markdown cell and write in your own\n",
    "words (no copy-paste from google please) what you understand about it. Implement a small\n",
    "program of your choice on the same."
   ]
  },
  {
   "cell_type": "markdown",
   "metadata": {},
   "source": [
    "#__Answer:__  \n",
    "Range() is a Python's in-built function which contains 0 to n-1 numbers.  \n",
    "Range function can have 3 arguments.  \n",
    "1) Start Index - range start point  \n",
    "2) End Index  - range end point  \n",
    "3) step Size - Deafult step size is 1  \n",
    "Range() syntax:   \n",
    "type 1 --> range(n)  \n",
    "type 2 --> range(SI,EI)  \n",
    "type 3 --> range(SI,EI,SS)  "
   ]
  },
  {
   "cell_type": "code",
   "execution_count": 58,
   "metadata": {},
   "outputs": [
    {
     "name": "stdout",
     "output_type": "stream",
     "text": [
      "Program for printing Even numbers using Range(n)\n",
      "0 Is a Even number\n",
      "2 Is a Even number\n",
      "4 Is a Even number\n",
      "6 Is a Even number\n",
      "8 Is a Even number\n",
      "10 Is a Even number\n",
      "12 Is a Even number\n",
      "14 Is a Even number\n",
      "16 Is a Even number\n",
      "18 Is a Even number\n",
      "\n",
      "\n",
      "Program for printing Even numbers using Range(SI,EI)\n",
      "8 Is a Even number\n",
      "10 Is a Even number\n",
      "12 Is a Even number\n",
      "14 Is a Even number\n",
      "16 Is a Even number\n",
      "\n",
      "\n",
      "Program for printing Even numbers using Range(SI,EI,SS)\n",
      "8 Is a Even number\n",
      "14 Is a Even number\n",
      "\n",
      "\n"
     ]
    }
   ],
   "source": [
    "print('Program for printing Even numbers using Range(n)')\n",
    "for i in range(20):\n",
    "    if (i%2)==0:\n",
    "        print(i,'Is a Even number')\n",
    "print('\\n')\n",
    "print('Program for printing Even numbers using Range(SI,EI)')\n",
    "for i in range(8,18):\n",
    "    if i%2==0:\n",
    "        print(i,'Is a Even number')\n",
    "print('\\n')\n",
    "print('Program for printing Even numbers using Range(SI,EI,SS)')\n",
    "for i in range(8,18,3):\n",
    "    if i%2==0:\n",
    "        print(i,'Is a Even number')\n",
    "print('\\n')"
   ]
  },
  {
   "cell_type": "markdown",
   "metadata": {},
   "source": [
    "# Question 3:\n",
    " Consider two numbers. Perform their subtraction and if the result of subtraction is greater than\n",
    "25, print their multiplication result else print their division result."
   ]
  },
  {
   "cell_type": "code",
   "execution_count": 59,
   "metadata": {},
   "outputs": [
    {
     "name": "stdout",
     "output_type": "stream",
     "text": [
      "Division of numbers : 2.3333333333333335\n"
     ]
    }
   ],
   "source": [
    "num1 = 3\n",
    "num2 = 7\n",
    "if (num2-num1)>25:\n",
    "    print('Multiplication of numbers :', num2*num1)\n",
    "else:\n",
    "    print('Division of numbers :', num2/num1)\n",
    "    "
   ]
  },
  {
   "cell_type": "markdown",
   "metadata": {},
   "source": [
    "# Question 4:\n",
    "Consider a list of 10 elements of integer values. If the number in the list is divisible by 2, print the\n",
    "result as \"square of that number minus 2\""
   ]
  },
  {
   "cell_type": "code",
   "execution_count": 60,
   "metadata": {},
   "outputs": [
    {
     "name": "stdout",
     "output_type": "stream",
     "text": [
      "square of that number minus 2\n",
      "square of that number minus 2\n",
      "square of that number minus 2\n",
      "square of that number minus 2\n",
      "square of that number minus 2\n"
     ]
    }
   ],
   "source": [
    "list = [4,42,16,35,1,54,51,5,78,157]\n",
    "for i in list:\n",
    "    if i%2==0:\n",
    "        print(\"square of that number minus 2\")"
   ]
  },
  {
   "cell_type": "code",
   "execution_count": 61,
   "metadata": {},
   "outputs": [
    {
     "name": "stdout",
     "output_type": "stream",
     "text": [
      "square of 4 minus 2 is : 14\n",
      "square of 42 minus 2 is : 1762\n",
      "square of 16 minus 2 is : 254\n",
      "square of 54 minus 2 is : 2914\n",
      "square of 78 minus 2 is : 6082\n"
     ]
    }
   ],
   "source": [
    "#Question is not clear so diferent program that makes sence is below. \n",
    "list = [4,42,16,35,1,54,51,5,78,157]\n",
    "for i in list:\n",
    "    if i%2==0:\n",
    "        print(\"square of\",i,\"minus 2 is :\",i**2-2)"
   ]
  },
  {
   "cell_type": "markdown",
   "metadata": {},
   "source": [
    "# Question 5:\n",
    "Consider a list of 10 elements. Print all the elements in the list which are greater than 7 when that\n",
    "number is divided 2."
   ]
  },
  {
   "cell_type": "code",
   "execution_count": 62,
   "metadata": {},
   "outputs": [
    {
     "name": "stdout",
     "output_type": "stream",
     "text": [
      "List Set = [1, 54, 5, 562, 566, 54, 74, 55, 21, 4]\n",
      "Numbers greater than 7 after divided by 2 are\n",
      "54\n",
      "562\n",
      "566\n",
      "54\n",
      "74\n",
      "55\n",
      "21\n"
     ]
    }
   ],
   "source": [
    "list = [1,54,5,562,566,54,74,55,21,4]\n",
    "print('List Set =',list)\n",
    "print('Numbers greater than 7 after divided by 2 are')\n",
    "for i in list:\n",
    "    if (i/2)>7:\n",
    "        print(i)"
   ]
  },
  {
   "cell_type": "code",
   "execution_count": 63,
   "metadata": {},
   "outputs": [
    {
     "name": "stdout",
     "output_type": "stream",
     "text": [
      "Help on function f in module mpmath.ctx_mp_python:\n",
      "\n",
      "f(x, **kwargs)\n",
      "    Computes the floor of `x`, `\\lfloor x \\rfloor`, defined as\n",
      "    the largest integer less than or equal to `x`::\n",
      "    \n",
      "        >>> from mpmath import *\n",
      "        >>> mp.pretty = False\n",
      "        >>> floor(3.5)\n",
      "        mpf('3.0')\n",
      "    \n",
      "    .. note ::\n",
      "    \n",
      "        :func:`~mpmath.floor`, :func:`~mpmath.ceil` and :func:`~mpmath.nint` return a\n",
      "        floating-point number, not a Python ``int``. If `\\lfloor x \\rfloor` is\n",
      "        too large to be represented exactly at the present working precision,\n",
      "        the result will be rounded, not necessarily in the direction\n",
      "        implied by the mathematical definition of the function.\n",
      "    \n",
      "    To avoid rounding, use *prec=0*::\n",
      "    \n",
      "        >>> mp.dps = 15\n",
      "        >>> print(int(floor(10**30+1)))\n",
      "        1000000000000000019884624838656\n",
      "        >>> print(int(floor(10**30+1, prec=0)))\n",
      "        1000000000000000000000000000001\n",
      "    \n",
      "    The floor function is defined for complex numbers and\n",
      "    acts on the real and imaginary parts separately::\n",
      "    \n",
      "        >>> floor(3.25+4.75j)\n",
      "        mpc(real='3.0', imag='4.0')\n",
      "\n"
     ]
    }
   ],
   "source": [
    "import mpmath as m\n",
    "help(m.floor)"
   ]
  },
  {
   "cell_type": "code",
   "execution_count": null,
   "metadata": {},
   "outputs": [],
   "source": []
  },
  {
   "cell_type": "code",
   "execution_count": null,
   "metadata": {},
   "outputs": [],
   "source": []
  },
  {
   "cell_type": "code",
   "execution_count": null,
   "metadata": {},
   "outputs": [],
   "source": []
  }
 ],
 "metadata": {
  "kernelspec": {
   "display_name": "Python 3",
   "language": "python",
   "name": "python3"
  },
  "language_info": {
   "codemirror_mode": {
    "name": "ipython",
    "version": 3
   },
   "file_extension": ".py",
   "mimetype": "text/x-python",
   "name": "python",
   "nbconvert_exporter": "python",
   "pygments_lexer": "ipython3",
   "version": "3.7.6"
  }
 },
 "nbformat": 4,
 "nbformat_minor": 4
}
