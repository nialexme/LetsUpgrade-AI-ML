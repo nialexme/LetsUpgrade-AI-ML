{
 "cells": [
  {
   "cell_type": "markdown",
   "metadata": {},
   "source": [
    "# Question 1 :\n",
    "Write a Python program to find the first 20 non-even prime natural numbers."
   ]
  },
  {
   "cell_type": "code",
   "execution_count": 33,
   "metadata": {},
   "outputs": [
    {
     "name": "stdout",
     "output_type": "stream",
     "text": [
      "First 20 Non-Even Prime numbers are:\n",
      "3 5 7 11 13 17 19 23 29 31 37 41 43 47 53 59 61 67 71 73 "
     ]
    }
   ],
   "source": [
    "len = 1\n",
    "print('First 20 Non-Even Prime numbers are:')\n",
    "for num in range(2,100):\n",
    "    for i in range(2,num):\n",
    "        if num%i==0:\n",
    "            break\n",
    "    else:   \n",
    "        if num%2!=0 and len<=20:\n",
    "            print(num,end=' ')\n",
    "            len +=1\n"
   ]
  },
  {
   "cell_type": "markdown",
   "metadata": {},
   "source": [
    "# Question 2 :\n",
    "Write a Python program to implement 15 functions of string."
   ]
  },
  {
   "cell_type": "code",
   "execution_count": 34,
   "metadata": {},
   "outputs": [
    {
     "name": "stdout",
     "output_type": "stream",
     "text": [
      "Converting to lower case: functions of string 2\n",
      "Converting to upper case: FUNCTIONS OF STRING 2\n",
      "Checking if string is in lower case: False\n",
      "Checking if string is in upper case: False\n",
      "Replacing selected string with new string: FuncTions of STring 2\n",
      "Checking if string contains only alphabets: False\n",
      "Checking if string contains only alphanumeric characters: False\n",
      "Converting string as title: Functions Of String 2\n",
      "Converting alphabets from upper to lower and lower to upper: fUNCtIONS OF stRING 2\n",
      "Converting first letter of sentence to upper: Functions of string 2\n",
      "Checking if string contain only alphanumeric and special characters: True\n",
      "Checking if string starts with given element: True\n",
      "Checking if string ends with given element: True\n",
      "Checking if string contains the given element, if true returns index position: 15\n",
      "Spliting string to list where the given element is present: ['FuncTions', 'of', 'STring', '2']\n",
      "Counting no.of occurances of given element: 2\n"
     ]
    }
   ],
   "source": [
    "strng = \"FuncTions of STring 2\"\n",
    "\n",
    "print('Converting to lower case:',strng.lower())\n",
    "print('Converting to upper case:',strng.upper())\n",
    "print('Checking if string is in lower case:',strng.islower())\n",
    "print('Checking if string is in upper case:',strng.isupper())\n",
    "print('Replacing selected string with new string:',strng.replace(\"String\", \"Python\"))\n",
    "print('Checking if string contains only alphabets:',strng.isalpha())\n",
    "print('Checking if string contains only alphanumeric characters:',strng.isalnum())\n",
    "print('Converting string as title:',strng.title())\n",
    "print('Converting alphabets from upper to lower and lower to upper:',strng.swapcase())\n",
    "print('Converting first letter of sentence to upper:',strng.capitalize())\n",
    "print('Checking if string contain only alphanumeric and special characters:',strng.isprintable())\n",
    "print('Checking if string starts with given element:',strng.endswith('2'))\n",
    "print('Checking if string ends with given element:',strng.endswith('2'))\n",
    "print('Checking if string contains the given element, if true returns index position:',strng.find('ring'))\n",
    "print('Spliting string to list where the given element is present:',strng.split(' '))\n",
    "print('Counting no.of occurances of given element:',strng.count('i'))"
   ]
  },
  {
   "cell_type": "markdown",
   "metadata": {},
   "source": [
    "# Question 3:\n",
    "Write a Python program to check if the given string is a Palindrome or Anagram or None of them.\n",
    "Display the message accordingly to the user."
   ]
  },
  {
   "cell_type": "code",
   "execution_count": 36,
   "metadata": {},
   "outputs": [
    {
     "name": "stdout",
     "output_type": "stream",
     "text": [
      "Enter any word:Listen\n",
      "Listen is not a Palindrome\n",
      "Enter another word:Silent\n",
      "Listen & Silent are Anagram Words\n"
     ]
    }
   ],
   "source": [
    "str1 = input('Enter any word:')\n",
    "if str1.lower()==\"\".join(reversed(str1.lower())):\n",
    "    print(str1,'is a Palindrome')\n",
    "else:\n",
    "    print(str1,'is not a Palindrome')\n",
    "str2 = input('Enter another word:')\n",
    "if sorted(str1.lower())==sorted(str2.lower()):\n",
    "    print(str1,'&',str2,'are Anagram Words')\n",
    "elif str1.lower()!=\"\".join(reversed(str1.lower())):\n",
    "    print('Both entered strings are neither a Palindrome nor a Anagram')\n",
    "else:\n",
    "    print(str1,'&',str2,'are not Anagram Words')"
   ]
  },
  {
   "cell_type": "markdown",
   "metadata": {},
   "source": [
    "# Question 4:\n",
    "Write a Python's user defined function that removes all the additional characters from the string\n",
    "and converts it finally to lower case using built-in lower(). eg: If the string is \"Dr. Darshan Ingle\n",
    "@AI-ML Trainer\", then the output be \"drdarshaningle aimltrainer\"."
   ]
  },
  {
   "cell_type": "code",
   "execution_count": 38,
   "metadata": {},
   "outputs": [
    {
     "name": "stdout",
     "output_type": "stream",
     "text": [
      "Enter a string:Dr. Darshan Ingle @AI-ML Trainer\n"
     ]
    },
    {
     "data": {
      "text/plain": [
       "'drdarshaningleaimltrainer'"
      ]
     },
     "execution_count": 38,
     "metadata": {},
     "output_type": "execute_result"
    }
   ],
   "source": [
    "strng5 = input('Enter a string:')\n",
    "def spcl_char_remover():\n",
    "    str5 = ''\n",
    "    for i in strng5:\n",
    "        if i.isalpha():\n",
    "            str5=str5+i\n",
    "    return str5.lower()\n",
    "spcl_char_remover()"
   ]
  },
  {
   "cell_type": "code",
   "execution_count": null,
   "metadata": {},
   "outputs": [],
   "source": []
  },
  {
   "cell_type": "code",
   "execution_count": null,
   "metadata": {},
   "outputs": [],
   "source": []
  }
 ],
 "metadata": {
  "kernelspec": {
   "display_name": "Python 3",
   "language": "python",
   "name": "python3"
  },
  "language_info": {
   "codemirror_mode": {
    "name": "ipython",
    "version": 3
   },
   "file_extension": ".py",
   "mimetype": "text/x-python",
   "name": "python",
   "nbconvert_exporter": "python",
   "pygments_lexer": "ipython3",
   "version": "3.7.6"
  }
 },
 "nbformat": 4,
 "nbformat_minor": 4
}
